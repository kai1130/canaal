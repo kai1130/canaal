{
 "cells": [
  {
   "cell_type": "code",
   "execution_count": 1,
   "id": "eb0050ef",
   "metadata": {},
   "outputs": [],
   "source": [
    "import boto3\n",
    "import os\n",
    "import keys\n",
    "\n",
    "os.environ['AWS_ACCESS_KEY_ID'] = keys.AWS_ACCESS_KEY_ID\n",
    "os.environ['AWS_SECRET_ACCESS_KEY'] = keys.AWS_SECRET_ACCESS_KEY\n",
    "os.environ['AWS_DEFAULT_REGION'] = keys.AWS_DEFAULT_REGION"
   ]
  },
  {
   "cell_type": "code",
   "execution_count": 2,
   "id": "fb5f1aca",
   "metadata": {},
   "outputs": [],
   "source": [
    "import logging\n",
    "from pprint import pprint\n",
    "import sys\n",
    "import threading\n",
    "import time\n",
    "import boto3\n",
    "\n",
    "from kinesis.streams.kinesis_stream import KinesisStream\n",
    "from kinesis.analytics.analytics_application import KinesisAnalyticsApplication\n",
    "\n",
    "sys.path.append('../..')\n",
    "from demo_tools.custom_waiter import CustomWaiter, WaitState\n",
    "from demo_tools.retries import exponential_retry\n",
    "\n",
    "logger = logging.getLogger(__name__)"
   ]
  },
  {
   "cell_type": "code",
   "execution_count": 3,
   "id": "901d6820",
   "metadata": {},
   "outputs": [],
   "source": [
    "class ApplicationRunningWaiter(CustomWaiter):\n",
    "    \"\"\"\n",
    "    Waits for the application to be in a running state.\n",
    "    \"\"\"\n",
    "    def __init__(self, client):\n",
    "        super().__init__(\n",
    "            'ApplicationRunning', 'DescribeApplication',\n",
    "            'ApplicationDetail.ApplicationStatus',\n",
    "            {'RUNNING': WaitState.SUCCESS, 'STOPPING': WaitState.FAILURE},\n",
    "            client)\n",
    "\n",
    "    def wait(self, app_name):\n",
    "        self._wait(ApplicationName=app_name)"
   ]
  },
  {
   "cell_type": "code",
   "execution_count": 4,
   "id": "4ad0f6d2",
   "metadata": {
    "scrolled": false
   },
   "outputs": [
    {
     "name": "stderr",
     "output_type": "stream",
     "text": [
      "INFO: Found credentials in environment variables.\n"
     ]
    },
    {
     "name": "stdout",
     "output_type": "stream",
     "text": [
      "----------------------------------------------------------------------------------------\n",
      "Setting up Data Streams and Continuous Query.\n",
      "----------------------------------------------------------------------------------------\n",
      "Creating input stream moralis-input and output stream moralis-output.\n"
     ]
    },
    {
     "name": "stderr",
     "output_type": "stream",
     "text": [
      "INFO: Created stream moralis-input.\n",
      "INFO: Waiting until exists.\n",
      "INFO: Got stream moralis-input.\n",
      "INFO: Created stream moralis-output.\n",
      "INFO: Waiting until exists.\n",
      "INFO: Got stream moralis-output.\n"
     ]
    },
    {
     "name": "stdout",
     "output_type": "stream",
     "text": [
      "Creating role kinesis-read-write to let Kinesis Analytics read from the input stream and write to the output stream.\n"
     ]
    },
    {
     "name": "stderr",
     "output_type": "stream",
     "text": [
      "INFO: Created role kinesis-read-write-role and attached policy kinesis-read-write-policy to allow read from stream arn:aws:kinesis:us-east-2:333152911718:stream/moralis-input and write to stream arn:aws:kinesis:us-east-2:333152911718:stream/moralis-output.\n"
     ]
    },
    {
     "name": "stdout",
     "output_type": "stream",
     "text": [
      "Waiting for role to be ready.\n"
     ]
    }
   ],
   "source": [
    "print('-'*88)\n",
    "print(\"Setting up Data Streams and Continuous Query.\")\n",
    "print('-'*88)\n",
    "\n",
    "logging.basicConfig(level=logging.INFO, format='%(levelname)s: %(message)s')\n",
    "\n",
    "kinesis_client = boto3.client('kinesis')\n",
    "iam_resource = boto3.resource('iam')\n",
    "analytics_client = boto3.client('kinesisanalytics')\n",
    "application = KinesisAnalyticsApplication(analytics_client)\n",
    "app_running_waiter = ApplicationRunningWaiter(analytics_client)\n",
    "\n",
    "input_stream_name = 'moralis-input'\n",
    "input_prefix = 'SOURCE_SQL_STREAM'\n",
    "output_stream_name = 'moralis-output'\n",
    "app_name = 'moralis-app'\n",
    "role_name = 'kinesis-read-write'\n",
    "\n",
    "print(f\"Creating input stream {input_stream_name} and output stream {output_stream_name}.\")\n",
    "input_stream = KinesisStream(kinesis_client)\n",
    "input_stream.create(input_stream_name)\n",
    "output_stream = KinesisStream(kinesis_client)\n",
    "output_stream.create(output_stream_name)\n",
    "\n",
    "print(f\"Creating role {role_name} to let Kinesis Analytics read from the input stream and write to the output stream.\")\n",
    "role = application.create_read_write_role(role_name, input_stream.arn(), output_stream.arn(), iam_resource)\n",
    "print(\"Waiting for role to be ready.\")\n",
    "time.sleep(10)"
   ]
  },
  {
   "cell_type": "code",
   "execution_count": 5,
   "id": "1e5e8705",
   "metadata": {},
   "outputs": [
    {
     "data": {
      "text/plain": [
       "['moralis-input', 'moralis-output']"
      ]
     },
     "execution_count": 5,
     "metadata": {},
     "output_type": "execute_result"
    }
   ],
   "source": [
    "response = kinesis_client.list_streams()\n",
    "response['StreamNames']"
   ]
  },
  {
   "cell_type": "code",
   "execution_count": 7,
   "id": "cf7c7cce",
   "metadata": {},
   "outputs": [
    {
     "data": {
      "text/plain": [
       "{'StreamName': 'moralis-input',\n",
       " 'StreamARN': 'arn:aws:kinesis:us-east-2:333152911718:stream/moralis-input',\n",
       " 'StreamStatus': 'ACTIVE',\n",
       " 'StreamModeDetails': {'StreamMode': 'PROVISIONED'},\n",
       " 'RetentionPeriodHours': 24,\n",
       " 'StreamCreationTimestamp': datetime.datetime(2022, 11, 11, 16, 23, 32, tzinfo=tzlocal()),\n",
       " 'EnhancedMonitoring': [{'ShardLevelMetrics': []}],\n",
       " 'EncryptionType': 'NONE',\n",
       " 'OpenShardCount': 1,\n",
       " 'ConsumerCount': 0}"
      ]
     },
     "execution_count": 7,
     "metadata": {},
     "output_type": "execute_result"
    }
   ],
   "source": [
    "response = kinesis_client.describe_stream_summary(StreamName='moralis-input')\n",
    "response['StreamDescriptionSummary']"
   ]
  },
  {
   "cell_type": "code",
   "execution_count": 8,
   "id": "5a726828",
   "metadata": {
    "scrolled": false
   },
   "outputs": [
    {
     "name": "stdout",
     "output_type": "stream",
     "text": [
      "Creating application moralis-app.\n"
     ]
    },
    {
     "name": "stderr",
     "output_type": "stream",
     "text": [
      "INFO: Application moralis-app created.\n"
     ]
    },
    {
     "name": "stdout",
     "output_type": "stream",
     "text": [
      "{'ApplicationARN': 'arn:aws:kinesisanalytics:us-east-2:333152911718:application/moralis-app',\n",
      " 'ApplicationName': 'moralis-app',\n",
      " 'ApplicationStatus': 'READY'}\n",
      "Discovering schema of input stream moralis-input.\n"
     ]
    },
    {
     "name": "stderr",
     "output_type": "stream",
     "text": [
      "INFO: Discovered input schema for stream arn:aws:kinesis:us-east-2:333152911718:stream/moralis-input.\n"
     ]
    },
    {
     "name": "stdout",
     "output_type": "stream",
     "text": [
      "{'RecordColumns': [{'Mapping': '$.chain',\n",
      "                    'Name': 'chain',\n",
      "                    'SqlType': 'VARCHAR(4)'},\n",
      "                   {'Mapping': '$.from',\n",
      "                    'Name': 'COL_from',\n",
      "                    'SqlType': 'VARCHAR(64)'},\n",
      "                   {'Mapping': '$.to',\n",
      "                    'Name': 'COL_to',\n",
      "                    'SqlType': 'VARCHAR(64)'},\n",
      "                   {'Mapping': '$.amount',\n",
      "                    'Name': 'amount',\n",
      "                    'SqlType': 'DOUBLE'},\n",
      "                   {'Mapping': '$.symbol',\n",
      "                    'Name': 'symbol',\n",
      "                    'SqlType': 'VARCHAR(8)'}],\n",
      " 'RecordEncoding': 'UTF-8',\n",
      " 'RecordFormat': {'MappingParameters': {'JSONMappingParameters': {'RecordRowPath': '$'}},\n",
      "                  'RecordFormatType': 'JSON'}}\n"
     ]
    }
   ],
   "source": [
    "print(f\"Creating application {app_name}.\")\n",
    "app_data = exponential_retry('InvalidArgumentException')(application.create)(app_name, role.arn)\n",
    "application.create_timestamp = analytics_client.describe_application(ApplicationName=app_name)['ApplicationDetail']['CreateTimestamp']\n",
    "application.version_id = analytics_client.describe_application(ApplicationName=app_name)['ApplicationDetail']['ApplicationVersionId']\n",
    "\n",
    "pprint(app_data)\n",
    "print(f\"Discovering schema of input stream {input_stream.name}.\")\n",
    "input_schema = application.discover_input_schema(input_stream.arn(), role.arn)\n",
    "application.version_id = analytics_client.describe_application(ApplicationName=app_name)['ApplicationDetail']['ApplicationVersionId']\n",
    "pprint(input_schema)"
   ]
  },
  {
   "cell_type": "code",
   "execution_count": 9,
   "id": "4b3b4c64",
   "metadata": {},
   "outputs": [
    {
     "name": "stderr",
     "output_type": "stream",
     "text": [
      "INFO: Add input stream arn:aws:kinesis:us-east-2:333152911718:stream/moralis-input to application moralis-app.\n"
     ]
    },
    {
     "name": "stdout",
     "output_type": "stream",
     "text": [
      "Adding input stream to the application.\n",
      "Input details:\n",
      "{'ResponseMetadata': {'HTTPHeaders': {'content-length': '2',\n",
      "                                      'content-type': 'application/x-amz-json-1.1',\n",
      "                                      'date': 'Fri, 11 Nov 2022 22:24:18 GMT',\n",
      "                                      'x-amzn-requestid': 'fe87a02f-fe0a-45c1-b2f3-d55709ccc877'},\n",
      "                      'HTTPStatusCode': 200,\n",
      "                      'RequestId': 'fe87a02f-fe0a-45c1-b2f3-d55709ccc877',\n",
      "                      'RetryAttempts': 0}}\n",
      "Uploading SQL code to the application to process the input stream.\n"
     ]
    },
    {
     "name": "stderr",
     "output_type": "stream",
     "text": [
      "INFO: Update code for application moralis-app.\n",
      "INFO: Added output arn:aws:kinesis:us-east-2:333152911718:stream/moralis-output to moralis-app.\n"
     ]
    },
    {
     "name": "stdout",
     "output_type": "stream",
     "text": [
      "Adding output stream to the application.\n"
     ]
    }
   ],
   "source": [
    "print(\"Adding input stream to the application.\")\n",
    "input_details = application.add_input(\n",
    "    input_prefix, input_stream.arn(), role.arn, input_schema)\n",
    "application.version_id = analytics_client.describe_application(ApplicationName=app_name)['ApplicationDetail']['ApplicationVersionId']\n",
    "print(\"Input details:\")\n",
    "pprint(input_details)\n",
    "\n",
    "print(\"Uploading SQL code to the application to process the input stream.\")\n",
    "with open('example.sql') as code_file:\n",
    "    code = code_file.read()\n",
    "application.update_code(code)\n",
    "application.version_id = analytics_client.describe_application(ApplicationName=app_name)['ApplicationDetail']['ApplicationVersionId']\n",
    "\n",
    "print(\"Adding output stream to the application.\")\n",
    "application.add_output('DESTINATION_SQL_STREAM', output_stream.arn(), role.arn)"
   ]
  },
  {
   "cell_type": "code",
   "execution_count": 10,
   "id": "6f4ca155",
   "metadata": {
    "scrolled": true
   },
   "outputs": [
    {
     "name": "stderr",
     "output_type": "stream",
     "text": [
      "INFO: Started application moralis-app.\n",
      "INFO: Waiter ApplicationRunning called DescribeApplication, got STARTING.\n"
     ]
    },
    {
     "name": "stdout",
     "output_type": "stream",
     "text": [
      "Starting the application.\n",
      "Waiting for the application to start (this may take a minute or two).\n"
     ]
    },
    {
     "name": "stderr",
     "output_type": "stream",
     "text": [
      "INFO: Waiter ApplicationRunning called DescribeApplication, got STARTING.\n",
      "INFO: Waiter ApplicationRunning called DescribeApplication, got STARTING.\n",
      "INFO: Waiter ApplicationRunning called DescribeApplication, got STARTING.\n",
      "INFO: Waiter ApplicationRunning called DescribeApplication, got STARTING.\n",
      "INFO: Waiter ApplicationRunning called DescribeApplication, got STARTING.\n",
      "INFO: Waiter ApplicationRunning called DescribeApplication, got RUNNING.\n"
     ]
    }
   ],
   "source": [
    "print(\"Starting the application.\")\n",
    "application.start(analytics_client.describe_application(ApplicationName=app_name)['ApplicationDetail']['InputDescriptions'][0]['InputId'])\n",
    "print(\"Waiting for the application to start (this may take a minute or two).\")\n",
    "app_running_waiter.wait(application.name)"
   ]
  },
  {
   "cell_type": "code",
   "execution_count": 11,
   "id": "0e70882c",
   "metadata": {
    "scrolled": true
   },
   "outputs": [
    {
     "name": "stdout",
     "output_type": "stream",
     "text": [
      "Application started. Getting records from the output stream.\n",
      "{\"TIME_INTERVAL\":\"2022-11-11 22:25:20.000\",\"CHAIN\":\"0x1\",\"SYMBOL\":\"MATIC\",\"SUM_AMOUNT\":3.3000000000000003}\n",
      "{\"TIME_INTERVAL\":\"2022-11-11 22:25:30.000\",\"CHAIN\":\"0x1\",\"SYMBOL\":\"MATIC\",\"SUM_AMOUNT\":2869855.9322621212}\n",
      "{\"TIME_INTERVAL\":\"2022-11-11 22:25:50.000\",\"CHAIN\":\"0x1\",\"SYMBOL\":\"MATIC\",\"SUM_AMOUNT\":954.5200196100001}\n",
      "{\"TIME_INTERVAL\":\"2022-11-11 22:26:00.000\",\"CHAIN\":\"0x1\",\"SYMBOL\":\"MATIC\",\"SUM_AMOUNT\":114671.69018404001}\n",
      "{\"TIME_INTERVAL\":\"2022-11-11 22:26:10.000\",\"CHAIN\":\"0x1\",\"SYMBOL\":\"MATIC\",\"SUM_AMOUNT\":47990.41425921}\n",
      "{\"TIME_INTERVAL\":\"2022-11-11 22:26:20.000\",\"CHAIN\":\"0x1\",\"SYMBOL\":\"MATIC\",\"SUM_AMOUNT\":1310.5237633320323}\n",
      "{\"TIME_INTERVAL\":\"2022-11-11 22:26:30.000\",\"CHAIN\":\"0x1\",\"SYMBOL\":\"MATIC\",\"SUM_AMOUNT\":54580.757089934676}\n",
      "{\"TIME_INTERVAL\":\"2022-11-11 22:26:40.000\",\"CHAIN\":\"0x1\",\"SYMBOL\":\"MATIC\",\"SUM_AMOUNT\":377.38608778}\n",
      "{\"TIME_INTERVAL\":\"2022-11-11 22:26:50.000\",\"CHAIN\":\"0x1\",\"SYMBOL\":\"MATIC\",\"SUM_AMOUNT\":4233.85597092}\n",
      "{\"TIME_INTERVAL\":\"2022-11-11 22:27:00.000\",\"CHAIN\":\"0x1\",\"SYMBOL\":\"MATIC\",\"SUM_AMOUNT\":64675.0}\n",
      "{\"TIME_INTERVAL\":\"2022-11-11 22:27:10.000\",\"CHAIN\":\"0x1\",\"SYMBOL\":\"MATIC\",\"SUM_AMOUNT\":747235.0754252038}\n",
      "{\"TIME_INTERVAL\":\"2022-11-11 22:27:20.000\",\"CHAIN\":\"0x1\",\"SYMBOL\":\"MATIC\",\"SUM_AMOUNT\":1380.16063915}\n",
      "{\"TIME_INTERVAL\":\"2022-11-11 22:27:40.000\",\"CHAIN\":\"0x1\",\"SYMBOL\":\"MATIC\",\"SUM_AMOUNT\":127968.80560021309}\n",
      "{\"TIME_INTERVAL\":\"2022-11-11 22:27:50.000\",\"CHAIN\":\"0x1\",\"SYMBOL\":\"FTM\",\"SUM_AMOUNT\":1220.0}\n",
      "{\"TIME_INTERVAL\":\"2022-11-11 22:27:50.000\",\"CHAIN\":\"0x1\",\"SYMBOL\":\"MATIC\",\"SUM_AMOUNT\":1492.1495512477027}\n",
      "{\"TIME_INTERVAL\":\"2022-11-11 22:28:00.000\",\"CHAIN\":\"0x1\",\"SYMBOL\":\"MATIC\",\"SUM_AMOUNT\":1925.7999012084233}\n",
      "{\"TIME_INTERVAL\":\"2022-11-11 22:28:10.000\",\"CHAIN\":\"0x1\",\"SYMBOL\":\"FTM\",\"SUM_AMOUNT\":13621.97680042474}\n",
      "{\"TIME_INTERVAL\":\"2022-11-11 22:28:10.000\",\"CHAIN\":\"0x1\",\"SYMBOL\":\"MATIC\",\"SUM_AMOUNT\":27537.450847086366}\n",
      "{\"TIME_INTERVAL\":\"2022-11-11 22:28:20.000\",\"CHAIN\":\"0x1\",\"SYMBOL\":\"MATIC\",\"SUM_AMOUNT\":12000.0}\n",
      "{\"TIME_INTERVAL\":\"2022-11-11 22:28:20.000\",\"CHAIN\":\"0x1\",\"SYMBOL\":\"FTM\",\"SUM_AMOUNT\":15901.935154334251}\n",
      "{\"TIME_INTERVAL\":\"2022-11-11 22:28:30.000\",\"CHAIN\":\"0x1\",\"SYMBOL\":\"MATIC\",\"SUM_AMOUNT\":48063.14560842303}\n",
      "{\"TIME_INTERVAL\":\"2022-11-11 22:28:50.000\",\"CHAIN\":\"0x1\",\"SYMBOL\":\"MATIC\",\"SUM_AMOUNT\":2827.822930422032}\n",
      "{\"TIME_INTERVAL\":\"2022-11-11 22:29:00.000\",\"CHAIN\":\"0x1\",\"SYMBOL\":\"MATIC\",\"SUM_AMOUNT\":402.38608778}\n",
      "{\"TIME_INTERVAL\":\"2022-11-11 22:29:10.000\",\"CHAIN\":\"0x1\",\"SYMBOL\":\"MATIC\",\"SUM_AMOUNT\":4233.85597092}\n",
      "{\"TIME_INTERVAL\":\"2022-11-11 22:29:20.000\",\"CHAIN\":\"0x1\",\"SYMBOL\":\"MATIC\",\"SUM_AMOUNT\":65702.68762321}\n",
      "{\"TIME_INTERVAL\":\"2022-11-11 22:29:40.000\",\"CHAIN\":\"0x1\",\"SYMBOL\":\"MATIC\",\"SUM_AMOUNT\":719638.0164929577}\n",
      "{\"TIME_INTERVAL\":\"2022-11-11 22:30:00.000\",\"CHAIN\":\"0x1\",\"SYMBOL\":\"MATIC\",\"SUM_AMOUNT\":1983.84851519}\n",
      "{\"TIME_INTERVAL\":\"2022-11-11 22:30:10.000\",\"CHAIN\":\"0x1\",\"SYMBOL\":\"MATIC\",\"SUM_AMOUNT\":11097.334634527704}\n",
      "{\"TIME_INTERVAL\":\"2022-11-11 22:30:10.000\",\"CHAIN\":\"0x1\",\"SYMBOL\":\"FTM\",\"SUM_AMOUNT\":1220.0}\n",
      "{\"TIME_INTERVAL\":\"2022-11-11 22:30:20.000\",\"CHAIN\":\"0x1\",\"SYMBOL\":\"MATIC\",\"SUM_AMOUNT\":69480.55414003819}\n",
      "{\"TIME_INTERVAL\":\"2022-11-11 22:30:30.000\",\"CHAIN\":\"0x1\",\"SYMBOL\":\"FTM\",\"SUM_AMOUNT\":14587.379869165256}\n",
      "{\"TIME_INTERVAL\":\"2022-11-11 22:30:30.000\",\"CHAIN\":\"0x1\",\"SYMBOL\":\"MATIC\",\"SUM_AMOUNT\":28450.029967136008}\n",
      "{\"TIME_INTERVAL\":\"2022-11-11 22:30:50.000\",\"CHAIN\":\"0x1\",\"SYMBOL\":\"FTM\",\"SUM_AMOUNT\":15901.935154334251}\n",
      "{\"TIME_INTERVAL\":\"2022-11-11 22:31:00.000\",\"CHAIN\":\"0x1\",\"SYMBOL\":\"MATIC\",\"SUM_AMOUNT\":72.7313492130259}\n",
      "{\"TIME_INTERVAL\":\"2022-11-11 22:31:10.000\",\"CHAIN\":\"0x1\",\"SYMBOL\":\"MATIC\",\"SUM_AMOUNT\":202770.00166869}\n",
      "{\"TIME_INTERVAL\":\"2022-11-11 22:31:20.000\",\"CHAIN\":\"0x1\",\"SYMBOL\":\"MATIC\",\"SUM_AMOUNT\":14489.8637975}\n",
      "{\"TIME_INTERVAL\":\"2022-11-11 22:31:50.000\",\"CHAIN\":\"0x1\",\"SYMBOL\":\"MATIC\",\"SUM_AMOUNT\":1285.00032321}\n",
      "{\"TIME_INTERVAL\":\"2022-11-11 22:32:00.000\",\"CHAIN\":\"0x1\",\"SYMBOL\":\"MATIC\",\"SUM_AMOUNT\":72454.41506775371}\n",
      "{\"TIME_INTERVAL\":\"2022-11-11 22:32:20.000\",\"CHAIN\":\"0x1\",\"SYMBOL\":\"MATIC\",\"SUM_AMOUNT\":202255.26269826986}\n",
      "{\"TIME_INTERVAL\":\"2022-11-11 22:32:30.000\",\"CHAIN\":\"0x1\",\"SYMBOL\":\"MATIC\",\"SUM_AMOUNT\":13249.003547685643}\n",
      "{\"TIME_INTERVAL\":\"2022-11-11 22:32:50.000\",\"CHAIN\":\"0x1\",\"SYMBOL\":\"MATIC\",\"SUM_AMOUNT\":164628.36468003818}\n",
      "{\"TIME_INTERVAL\":\"2022-11-11 22:33:00.000\",\"CHAIN\":\"0x1\",\"SYMBOL\":\"FTM\",\"SUM_AMOUNT\":965.403068740515}\n",
      "{\"TIME_INTERVAL\":\"2022-11-11 22:33:00.000\",\"CHAIN\":\"0x1\",\"SYMBOL\":\"MATIC\",\"SUM_AMOUNT\":912.5791200496427}\n",
      "{\"TIME_INTERVAL\":\"2022-11-11 22:33:10.000\",\"CHAIN\":\"0x1\",\"SYMBOL\":\"MATIC\",\"SUM_AMOUNT\":998.4510334330944}\n",
      "{\"TIME_INTERVAL\":\"2022-11-11 22:33:30.000\",\"CHAIN\":\"0x1\",\"SYMBOL\":\"MATIC\",\"SUM_AMOUNT\":202488.5864634911}\n",
      "{\"TIME_INTERVAL\":\"2022-11-11 22:33:50.000\",\"CHAIN\":\"0x1\",\"SYMBOL\":\"MATIC\",\"SUM_AMOUNT\":16296.50609808923}\n",
      "{\"TIME_INTERVAL\":\"2022-11-11 22:34:10.000\",\"CHAIN\":\"0x1\",\"SYMBOL\":\"MATIC\",\"SUM_AMOUNT\":6293.877551750001}\n",
      "{\"TIME_INTERVAL\":\"2022-11-11 22:34:20.000\",\"CHAIN\":\"0x1\",\"SYMBOL\":\"MATIC\",\"SUM_AMOUNT\":9453.370750000002}\n",
      "{\"TIME_INTERVAL\":\"2022-11-11 22:34:40.000\",\"CHAIN\":\"0x1\",\"SYMBOL\":\"MATIC\",\"SUM_AMOUNT\":153822.4650248635}\n",
      "{\"TIME_INTERVAL\":\"2022-11-11 22:34:50.000\",\"CHAIN\":\"0x1\",\"SYMBOL\":\"MATIC\",\"SUM_AMOUNT\":200568.92384346493}\n"
     ]
    }
   ],
   "source": [
    "print(\"Application started. Getting records from the output stream.\")\n",
    "logging.disable(level=logging.INFO)\n",
    "for records in output_stream.get_records(50):\n",
    "    if records != []:\n",
    "        print(*[rec['Data'].decode() for rec in records], sep='\\n')"
   ]
  },
  {
   "cell_type": "code",
   "execution_count": null,
   "id": "5b7dfcf1",
   "metadata": {
    "scrolled": true
   },
   "outputs": [],
   "source": [
    "print(\"Cleaning up...\")\n",
    "application.delete()\n",
    "input_stream.delete()\n",
    "output_stream.delete()\n",
    "print(\"Deleting read/write role.\")\n",
    "for policy in role.attached_policies.all():\n",
    "    role.detach_policy(PolicyArn=policy.arn)\n",
    "    policy.delete()\n",
    "role.delete()\n",
    "print('-'*88)"
   ]
  },
  {
   "cell_type": "code",
   "execution_count": null,
   "id": "0664e4d4",
   "metadata": {},
   "outputs": [],
   "source": []
  }
 ],
 "metadata": {
  "kernelspec": {
   "display_name": "Python 3 (ipykernel)",
   "language": "python",
   "name": "python3"
  },
  "language_info": {
   "codemirror_mode": {
    "name": "ipython",
    "version": 3
   },
   "file_extension": ".py",
   "mimetype": "text/x-python",
   "name": "python",
   "nbconvert_exporter": "python",
   "pygments_lexer": "ipython3",
   "version": "3.9.7"
  }
 },
 "nbformat": 4,
 "nbformat_minor": 5
}
