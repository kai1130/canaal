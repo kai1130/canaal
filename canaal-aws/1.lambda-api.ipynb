{
 "cells": [
  {
   "cell_type": "code",
   "execution_count": 1,
   "id": "7fae1832",
   "metadata": {},
   "outputs": [],
   "source": [
    "import boto3\n",
    "import os\n",
    "import keys\n",
    "\n",
    "os.environ['AWS_ACCESS_KEY_ID'] = keys.AWS_ACCESS_KEY_ID\n",
    "os.environ['AWS_SECRET_ACCESS_KEY'] = keys.AWS_SECRET_ACCESS_KEY\n",
    "os.environ['AWS_DEFAULT_REGION'] = keys.AWS_DEFAULT_REGION"
   ]
  },
  {
   "cell_type": "code",
   "execution_count": 2,
   "id": "a7e17ed8",
   "metadata": {
    "scrolled": true
   },
   "outputs": [],
   "source": [
    "import calendar\n",
    "import datetime\n",
    "import json\n",
    "import logging\n",
    "import time\n",
    "import boto3\n",
    "from botocore.exceptions import ClientError\n",
    "import requests\n",
    "\n",
    "import Lambda.lambda_basics as lambda_basics\n",
    "from api_gateway.api_gateway_rest import create_rest_api, construct_api_url, delete_rest_api\n",
    "\n",
    "logger = logging.getLogger(__name__)\n"
   ]
  },
  {
   "cell_type": "code",
   "execution_count": 16,
   "id": "3afcd1c0",
   "metadata": {},
   "outputs": [
    {
     "name": "stdout",
     "output_type": "stream",
     "text": [
      "----------------------------------------------------------------------------------------\n",
      "Setting up Lambda Function and API Gateway Rest API.\n",
      "----------------------------------------------------------------------------------------\n"
     ]
    }
   ],
   "source": [
    "logging.basicConfig(level=logging.INFO, format='%(levelname)s: %(message)s')\n",
    "print('-'*88)\n",
    "print(\"Setting up Lambda Function and API Gateway Rest API.\")\n",
    "print('-'*88)"
   ]
  },
  {
   "cell_type": "code",
   "execution_count": 17,
   "id": "17103442",
   "metadata": {},
   "outputs": [],
   "source": [
    "lambda_filename = 'Lambda/lambda_handler_rest.py'\n",
    "lambda_handler_name = 'Lambda/lambda_handler_rest.lambda_handler'\n",
    "lambda_role_name = 'canaal-lambda-role'\n",
    "lambda_function_name = 'canaal-moralis-lambda'\n",
    "api_name = 'canaal-moralis-api'"
   ]
  },
  {
   "cell_type": "code",
   "execution_count": 18,
   "id": "6ff25936",
   "metadata": {},
   "outputs": [],
   "source": [
    "iam_resource = boto3.resource('iam')\n",
    "lambda_client = boto3.client('lambda')\n",
    "apig_client = boto3.client('apigateway')"
   ]
  },
  {
   "cell_type": "code",
   "execution_count": 19,
   "id": "e8f2d856",
   "metadata": {},
   "outputs": [
    {
     "name": "stdout",
     "output_type": "stream",
     "text": [
      "Creating AWS Lambda function canaal-moralis-lambda from Lambda/lambda_handler_rest.lambda_handler...\n"
     ]
    },
    {
     "name": "stderr",
     "output_type": "stream",
     "text": [
      "INFO: Created role canaal-lambda-role.\n",
      "INFO: Attached basic execution policy to role canaal-lambda-role.\n",
      "INFO: Attached basic execution policy to role canaal-lambda-role.\n",
      "ERROR: Couldn't create function canaal-moralis-lambda.\n",
      "Traceback (most recent call last):\n",
      "  File \"/Users/kaihayden/Desktop/Canaal/canaal/canaal-aws/Lambda/lambda_basics.py\", line 135, in deploy_lambda_function\n",
      "    response = lambda_client.create_function(\n",
      "  File \"/Users/kaihayden/opt/anaconda3/lib/python3.9/site-packages/botocore/client.py\", line 401, in _api_call\n",
      "    return self._make_api_call(operation_name, kwargs)\n",
      "  File \"/Users/kaihayden/opt/anaconda3/lib/python3.9/site-packages/botocore/client.py\", line 731, in _make_api_call\n",
      "    raise error_class(parsed_response, operation_name)\n",
      "botocore.errorfactory.InvalidParameterValueException: An error occurred (InvalidParameterValueException) when calling the CreateFunction operation: The role defined for the function cannot be assumed by Lambda.\n"
     ]
    },
    {
     "name": "stdout",
     "output_type": "stream",
     "text": [
      "Sleeping for 1 to give AWS time to connect resources.\n"
     ]
    },
    {
     "name": "stderr",
     "output_type": "stream",
     "text": [
      "ERROR: Couldn't create function canaal-moralis-lambda.\n",
      "Traceback (most recent call last):\n",
      "  File \"/Users/kaihayden/Desktop/Canaal/canaal/canaal-aws/Lambda/lambda_basics.py\", line 135, in deploy_lambda_function\n",
      "    response = lambda_client.create_function(\n",
      "  File \"/Users/kaihayden/opt/anaconda3/lib/python3.9/site-packages/botocore/client.py\", line 401, in _api_call\n",
      "    return self._make_api_call(operation_name, kwargs)\n",
      "  File \"/Users/kaihayden/opt/anaconda3/lib/python3.9/site-packages/botocore/client.py\", line 731, in _make_api_call\n",
      "    raise error_class(parsed_response, operation_name)\n",
      "botocore.errorfactory.InvalidParameterValueException: An error occurred (InvalidParameterValueException) when calling the CreateFunction operation: The role defined for the function cannot be assumed by Lambda.\n"
     ]
    },
    {
     "name": "stdout",
     "output_type": "stream",
     "text": [
      "Sleeping for 2 to give AWS time to connect resources.\n"
     ]
    },
    {
     "name": "stderr",
     "output_type": "stream",
     "text": [
      "ERROR: Couldn't create function canaal-moralis-lambda.\n",
      "Traceback (most recent call last):\n",
      "  File \"/Users/kaihayden/Desktop/Canaal/canaal/canaal-aws/Lambda/lambda_basics.py\", line 135, in deploy_lambda_function\n",
      "    response = lambda_client.create_function(\n",
      "  File \"/Users/kaihayden/opt/anaconda3/lib/python3.9/site-packages/botocore/client.py\", line 401, in _api_call\n",
      "    return self._make_api_call(operation_name, kwargs)\n",
      "  File \"/Users/kaihayden/opt/anaconda3/lib/python3.9/site-packages/botocore/client.py\", line 731, in _make_api_call\n",
      "    raise error_class(parsed_response, operation_name)\n",
      "botocore.errorfactory.InvalidParameterValueException: An error occurred (InvalidParameterValueException) when calling the CreateFunction operation: The role defined for the function cannot be assumed by Lambda.\n"
     ]
    },
    {
     "name": "stdout",
     "output_type": "stream",
     "text": [
      "Sleeping for 4 to give AWS time to connect resources.\n"
     ]
    },
    {
     "name": "stderr",
     "output_type": "stream",
     "text": [
      "INFO: Created function 'canaal-moralis-lambda' with ARN: 'arn:aws:lambda:us-east-2:333152911718:function:canaal-moralis-lambda'.\n",
      "INFO: Ran deploy_lambda_function, got arn:aws:lambda:us-east-2:333152911718:function:canaal-moralis-lambda.\n"
     ]
    }
   ],
   "source": [
    "print(f\"Creating AWS Lambda function {lambda_function_name} from \"\n",
    "      f\"{lambda_handler_name}...\")\n",
    "deployment_package = lambda_basics.create_lambda_deployment_package(lambda_filename)\n",
    "iam_role = lambda_basics.create_iam_role_for_lambda(iam_resource, lambda_role_name)\n",
    "lambda_function_arn = lambda_basics.exponential_retry(\n",
    "    lambda_basics.deploy_lambda_function, 'InvalidParameterValueException',\n",
    "    lambda_client, lambda_function_name, lambda_handler_name, iam_role,\n",
    "    deployment_package)"
   ]
  },
  {
   "cell_type": "code",
   "execution_count": 20,
   "id": "ffbcd375",
   "metadata": {},
   "outputs": [
    {
     "name": "stdout",
     "output_type": "stream",
     "text": [
      "Creating Amazon API Gateway REST API canaal-moralis-api...\n"
     ]
    },
    {
     "name": "stderr",
     "output_type": "stream",
     "text": [
      "INFO: Create REST API canaal-moralis-api with ID k2sp7rs3c0.\n",
      "INFO: Found root resource of the REST API with ID t7p4ajm9ol.\n",
      "INFO: Created base path canaal-api with ID mslrcj.\n",
      "INFO: Created a method that accepts all HTTP verbs for the base resource.\n",
      "INFO: Set function arn:aws:lambda:us-east-2:333152911718:function:canaal-moralis-lambda as integration destination for the base resource.\n",
      "INFO: Deployed REST API k2sp7rs3c0.\n",
      "INFO: Granted permission to let Amazon API Gateway invoke function arn:aws:lambda:us-east-2:333152911718:function:canaal-moralis-lambda from arn:aws:execute-api:us-east-2:333152911718:k2sp7rs3c0/*/*/canaal-api.\n",
      "INFO: Constructed REST API base URL: https://k2sp7rs3c0.execute-api.us-east-2.amazonaws.com/canaal-moralis-stage/canaal-api.\n"
     ]
    },
    {
     "name": "stdout",
     "output_type": "stream",
     "text": [
      "REST API created, URL is :\n",
      "\thttps://k2sp7rs3c0.execute-api.us-east-2.amazonaws.com/canaal-moralis-stage/canaal-api\n",
      "Sleeping for a couple seconds to give AWS time to prepare...\n"
     ]
    }
   ],
   "source": [
    "print(f\"Creating Amazon API Gateway REST API {api_name}...\")\n",
    "account_id = boto3.client('sts').get_caller_identity()['Account']\n",
    "api_base_path = 'canaal-api'\n",
    "api_stage = 'canaal-moralis-stage'\n",
    "api_id = create_rest_api(\n",
    "    apig_client, api_name, api_base_path, api_stage, account_id,\n",
    "    lambda_client, lambda_function_arn)\n",
    "api_url = construct_api_url(\n",
    "    api_id, apig_client.meta.region_name, api_stage, api_base_path)\n",
    "print(f\"REST API created, URL is :\\n\\t{api_url}\")\n",
    "print(f\"Sleeping for a couple seconds to give AWS time to prepare...\")\n",
    "time.sleep(2)"
   ]
  },
  {
   "cell_type": "code",
   "execution_count": null,
   "id": "d619f9b8",
   "metadata": {},
   "outputs": [],
   "source": []
  },
  {
   "cell_type": "code",
   "execution_count": 15,
   "id": "cc680506",
   "metadata": {},
   "outputs": [
    {
     "name": "stdout",
     "output_type": "stream",
     "text": [
      "Deleted role canaal-lambda-role.\n"
     ]
    },
    {
     "name": "stderr",
     "output_type": "stream",
     "text": [
      "INFO: Deleted REST API g3nuar22g8.\n"
     ]
    }
   ],
   "source": [
    "print(\"Deleting the REST API, AWS Lambda function, and security role...\")\n",
    "time.sleep(5)  # Short sleep avoids TooManyRequestsException.\n",
    "lambda_basics.delete_lambda_function(lambda_client, lambda_function_name)\n",
    "for pol in iam_role.attached_policies.all():\n",
    "    pol.detach_role(RoleName=iam_role.name)\n",
    "iam_role.delete()\n",
    "print(f\"Deleted role {iam_role.name}.\")\n",
    "delete_rest_api(apig_client, api_id)"
   ]
  },
  {
   "cell_type": "code",
   "execution_count": null,
   "id": "cb998c94",
   "metadata": {},
   "outputs": [],
   "source": []
  },
  {
   "cell_type": "code",
   "execution_count": null,
   "id": "7d764eb3",
   "metadata": {},
   "outputs": [],
   "source": []
  },
  {
   "cell_type": "code",
   "execution_count": null,
   "id": "17699b3c",
   "metadata": {},
   "outputs": [],
   "source": []
  },
  {
   "cell_type": "code",
   "execution_count": null,
   "id": "81da664d",
   "metadata": {},
   "outputs": [],
   "source": []
  }
 ],
 "metadata": {
  "kernelspec": {
   "display_name": "Python 3 (ipykernel)",
   "language": "python",
   "name": "python3"
  },
  "language_info": {
   "codemirror_mode": {
    "name": "ipython",
    "version": 3
   },
   "file_extension": ".py",
   "mimetype": "text/x-python",
   "name": "python",
   "nbconvert_exporter": "python",
   "pygments_lexer": "ipython3",
   "version": "3.9.7"
  }
 },
 "nbformat": 4,
 "nbformat_minor": 5
}
